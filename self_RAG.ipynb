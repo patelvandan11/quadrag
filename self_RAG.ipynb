{
 "cells": [
  {
   "cell_type": "code",
   "execution_count": 43,
   "id": "f91b1514",
   "metadata": {},
   "outputs": [
    {
     "name": "stderr",
     "output_type": "stream",
     "text": [
      "d:\\ana\\envs\\langchain_env\\lib\\site-packages\\langchain_nvidia_ai_endpoints\\_statics.py:810: UserWarning: Model mixtral_8x7b is deprecated. Using mistralai/mixtral-8x7b-instruct-v0.1 instead.\n",
      "  warnings.warn(\n"
     ]
    }
   ],
   "source": [
    "from typing import TypedDict, List, Literal\n",
    "from langchain.prompts import PromptTemplate\n",
    "from langchain_community.vectorstores import Chroma\n",
    "from langchain_nvidia_ai_endpoints import NVIDIAEmbeddings\n",
    "from langchain.text_splitter import RecursiveCharacterTextSplitter\n",
    "from langchain_community.document_loaders import PyMuPDFLoader\n",
    "from langchain_core.runnables import RunnablePassthrough\n",
    "from langchain_core.output_parsers import StrOutputParser\n",
    "from langgraph.graph import StateGraph, END\n",
    "from langchain_core.prompts import ChatPromptTemplate\n",
    "from langchain_nvidia_ai_endpoints import ChatNVIDIA\n",
    "\n",
    "loader = PyMuPDFLoader(\"D:\\Code\\GIt repo\\internship+gen ai\\quadrag\\Hands-on-ML-ml.pdf\")\n",
    "docs = loader.load()\n",
    "\n",
    "#  Split \n",
    "splitter = RecursiveCharacterTextSplitter(chunk_size=400, chunk_overlap=50)\n",
    "chunks = splitter.split_documents(docs)\n",
    "\n",
    "#  vectors\n",
    "vectorstore = Chroma(\n",
    "    collection_name=\"hands-on-ml\",\n",
    "    embedding_function=NVIDIAEmbeddings(),\n",
    "    persist_directory=\"hands-on-ml1\"\n",
    ")\n",
    "# vectorstore.add_documents(chunks)  # if not already added so not needed if already added\n",
    "retriever = vectorstore.as_retriever()\n",
    "\n",
    "#  LLM\n",
    "llm = ChatNVIDIA(model=\"mixtral_8x7b\")\n",
    "\n",
    "# Define the state\n",
    "class AgentState(TypedDict):\n",
    "    question: str\n",
    "    documents: List[str]\n",
    "    generation: str\n",
    "    should_rewrite: bool\n",
    "    is_hallucination: bool\n",
    "    answer_meets_question: bool\n",
    "\n",
    "# Define your prompt template\n",
    "prompt = PromptTemplate(\n",
    "    template=\"\"\"\n",
    "    You are Professional Book Reader and you are reading a book called \"Hands-on Machine Learning with Scikit-Learn, Keras, and TensorFlow\" by Aurélien Géron.\n",
    "    As a reader user I will ask you questions about the book and you will answer them based on the context of the book.\n",
    "    Here is the context of the book: {context}\n",
    "    \n",
    "    Also here is some advice for you:\n",
    "    1. Always answer the question based on the context of the book.\n",
    "    2. If the question is not related to the book, say \"I don't know\".\n",
    "    3. If the question is not clear, ask for clarification.\n",
    "    4. You are a professional book reader, so you should answer the question in a professional way also if user needs explanation then explain like a Great Professor of prestigious University explain with Real-world example(s).\n",
    "    5. If the question is about a specific chapter, mention the chapter number and title in your answer.\n",
    "    6. If need some Mathematical formula to answer the question then use LaTeX format to write the formula.\n",
    "    \n",
    "    Here is the question: {question}\n",
    "    Answer the question based on the context of the book.\n",
    "    \"\"\",\n",
    "    input_variables=[\"context\", \"question\"],\n",
    ")\n",
    "\n"
   ]
  },
  {
   "cell_type": "code",
   "execution_count": 44,
   "id": "dfedc60c",
   "metadata": {},
   "outputs": [],
   "source": [
    "\n",
    "# Rewrite prompt\n",
    "rewrite_prompt = PromptTemplate(\n",
    "    template=\"Rewrite this question to be more specific for retrieval from the book:\\n\\n{question}\",\n",
    "    input_variables=[\"question\"]\n",
    ")\n",
    "\n",
    "# Hallucination check prompt (optional upgrade)\n",
    "hallucination_check_prompt = PromptTemplate(\n",
    "    template=\"\"\"\n",
    "You are a hallucination detector. Given the following context and answer,\n",
    "determine whether the answer is fully supported by the context.\n",
    "\n",
    "Context:\n",
    "{context}\n",
    "\n",
    "Answer:\n",
    "{generation}\n",
    "\n",
    "If yes, say: \"No Hallucination\". If not, say: \"Hallucination Detected\".\n",
    "\"\"\",\n",
    "    input_variables=[\"context\", \"generation\"]\n",
    ")\n"
   ]
  },
  {
   "cell_type": "code",
   "execution_count": 45,
   "id": "00a81c80",
   "metadata": {},
   "outputs": [],
   "source": [
    "# main QA chain\n",
    "qa_chain = prompt | llm | StrOutputParser()\n",
    "\n",
    "# rewrite chain\n",
    "rewrite_chain = rewrite_prompt | llm | StrOutputParser()\n",
    "\n",
    "# hallucination \n",
    "hallucination_chain = hallucination_check_prompt | llm | StrOutputParser()"
   ]
  },
  {
   "cell_type": "code",
   "execution_count": 46,
   "id": "557756b0",
   "metadata": {},
   "outputs": [],
   "source": [
    "# node functions \n",
    "def retrieve_docs(state: AgentState) -> AgentState:\n",
    "    print(\"🔍 Retrieving documents...\")\n",
    "    docs = retriever.invoke(state[\"question\"])\n",
    "    return {**state, \"documents\": docs}\n",
    "\n",
    "def grade_docs(state: AgentState) -> AgentState:\n",
    "    print(\"📊 Grading documents...\")\n",
    "    if not state[\"documents\"]:\n",
    "        return {**state, \"should_rewrite\": True}\n",
    "    return {**state, \"should_rewrite\": False}\n",
    "\n",
    "def generate_answer(state: AgentState) -> AgentState:\n",
    "    print(\"🧠 Generating answer...\")\n",
    "    context = \"\\n\\n\".join(doc.page_content for doc in state[\"documents\"])\n",
    "    generation = qa_chain.invoke({\"context\": context, \"question\": state[\"question\"]})\n",
    "    return {**state, \"generation\": generation}\n",
    "\n",
    "def check_hallucination(state: AgentState) -> AgentState:\n",
    "    print(\"👁️ Checking for hallucinations...\")\n",
    "    context = \"\\n\\n\".join(doc.page_content for doc in state[\"documents\"])\n",
    "    result = hallucination_chain.invoke({\n",
    "        \"context\": context,\n",
    "        \"generation\": state[\"generation\"]\n",
    "    })\n",
    "    return {**state, \"is_hallucination\": \"Hallucination Detected\" in result}\n",
    "\n",
    "def check_answers_question(state: AgentState) -> AgentState:\n",
    "    print(\"✅ Checking if answer meets question...\")\n",
    "    if state[\"generation\"] and \"I don't know\" not in state[\"generation\"]:\n",
    "        return {**state, \"answer_meets_question\": True}\n",
    "    return {**state, \"answer_meets_question\": False}\n",
    "\n",
    "def rewrite_question(state: AgentState) -> AgentState:\n",
    "    print(\"🔄 Rewriting question...\")\n",
    "    new_question = rewrite_chain.invoke({\"question\": state[\"question\"]})\n",
    "    return {**state, \"question\": new_question, \"should_rewrite\": False}\n",
    "\n",
    "#decison functions\n",
    "def grade_condition(state: AgentState) -> Literal[\"yes\", \"no\"]:\n",
    "    return \"yes\" if not state[\"should_rewrite\"] else \"no\"\n",
    "\n",
    "def hallucination_condition(state: AgentState) -> Literal[\"yes\", \"no\"]:\n",
    "    return \"no\" if not state[\"is_hallucination\"] else \"yes\"\n",
    "\n",
    "def check_answer_condition(state: AgentState) -> Literal[\"yes\", \"no\"]:\n",
    "    return \"yes\" if state[\"answer_meets_question\"] else \"no\"\n"
   ]
  },
  {
   "cell_type": "code",
   "execution_count": 54,
   "id": "9c36ff99",
   "metadata": {},
   "outputs": [],
   "source": [
    "from langgraph.graph import StateGraph, END\n",
    "\n",
    "workflow = StateGraph(AgentState)\n",
    "\n",
    "# Add core nodes\n",
    "workflow.add_node(\"retrieve\", retrieve_docs)\n",
    "workflow.add_node(\"grade\", grade_docs)\n",
    "workflow.add_node(\"generate\", generate_answer)\n",
    "workflow.add_node(\"hallucination\", check_hallucination)\n",
    "workflow.add_node(\"check_answer\", check_answers_question)\n",
    "workflow.add_node(\"rewrite\", rewrite_question)\n",
    "\n",
    "# Add conditional edges\n",
    "workflow.set_entry_point(\"retrieve\")\n",
    "workflow.add_edge(\"retrieve\", \"grade\")\n",
    "workflow.add_conditional_edges(\"grade\", grade_condition, {\"yes\": \"generate\", \"no\": \"rewrite\"})\n",
    "workflow.add_edge(\"rewrite\", \"retrieve\")\n",
    "workflow.add_edge(\"generate\", \"hallucination\")\n",
    "workflow.add_conditional_edges(\"hallucination\", hallucination_condition, {\"yes\": \"generate\", \"no\": \"check_answer\"})\n",
    "workflow.add_conditional_edges(\"check_answer\", check_answer_condition, {\"yes\": END, \"no\": \"rewrite\"})\n",
    "\n",
    "app= workflow.compile()"
   ]
  },
  {
   "cell_type": "code",
   "execution_count": 55,
   "id": "67534f3b",
   "metadata": {},
   "outputs": [
    {
     "data": {
      "image/png": "[encoded data removed]",
      "text/plain": [
       "<IPython.core.display.Image object>"
      ]
     },
     "metadata": {},
     "output_type": "display_data"
    }
   ],
   "source": [
    "from IPython.display import Image, display\n",
    "display(Image(app.get_graph().draw_mermaid_png()))"
   ]
  },
  {
   "cell_type": "code",
   "execution_count": 56,
   "id": "90f87a56",
   "metadata": {},
   "outputs": [
    {
     "name": "stdout",
     "output_type": "stream",
     "text": [
      "🔍 Retrieving documents...\n",
      "📊 Grading documents...\n",
      "🧠 Generating answer...\n",
      "👁️ Checking for hallucinations...\n",
      "✅ Checking if answer meets question...\n",
      "\n",
      "📝 Final Answer:\n",
      " The main difference between Batch Gradient Descent and Stochastic Gradient Descent lies in the way they update the parameters during the training of a model.\n",
      "\n",
      "Batch Gradient Descent uses the entire training set to compute the gradients at every step, which makes it very slow when dealing with large datasets. In contrast, Stochastic Gradient Descent uses a single training example at a time to compute the gradients, which makes each training step much faster. However, this also makes Stochastic Gradient Descent more stochastic, which can help the algorithm jump out of local minima and potentially find the global minimum in cases where the cost function is very irregular.\n",
      "\n",
      "In other words, Batch Gradient Descent provides a stable and precise path toward the minimum of the cost function, while Stochastic Gradient Descent provides a more stochastic and unpredictable path that can help escape from local optima (Figure 4-9).\n",
      "\n",
      "Another variant of Gradient Descent is Mini-batch Gradient Descent, which uses a small batch of training examples to compute the gradients at every step. This approach provides a balance between Batch Gradient Descent and Stochastic Gradient Descent: it is faster than Batch Gradient Descent and more precise than Stochastic Gradient Descent. However, it may be harder for Mini-batch Gradient Descent to escape from local minima compared to Stochastic Gradient Descent.\n",
      "\n",
      "In summary, the choice between Batch Gradient Descent, Stochastic Gradient Descent, and Mini-batch Gradient Descent depends on the specific problem and the trade-off between training speed, precision, and the ability to escape from local optima. (Chapter 4: Training Models)\n"
     ]
    }
   ],
   "source": [
    "\n",
    "input_state = {\"question\": \"What is the difference between batch and stochastic gradient descent?\"}\n",
    "\n",
    "final_state = app.invoke(input_state)\n",
    "print(\"\\n📝 Final Answer:\\n\", final_state[\"generation\"])\n"
   ]
  },
  {
   "cell_type": "code",
   "execution_count": 57,
   "id": "97a4de0d",
   "metadata": {},
   "outputs": [
    {
     "name": "stdout",
     "output_type": "stream",
     "text": [
      "🔍 Retrieving documents...\n",
      "📊 Grading documents...\n",
      "🧠 Generating answer...\n",
      "👁️ Checking for hallucinations...\n",
      "✅ Checking if answer meets question...\n",
      "\n",
      "📝 Final Answer:\n",
      " Machine learning is a subset of artificial intelligence that enables systems to learn and improve from experience without being explicitly programmed. The book \"Hands-on Machine Learning with Scikit-Learn, Keras, and TensorFlow\" by Aurélien Géron classifies machine learning systems into four major categories based on the amount and type of supervision they receive during training:\n",
      "\n",
      "1. **Supervised Learning**: In supervised learning, the model is trained using labeled data, where each example includes both input data and the corresponding output or target variable. The model learns to map inputs to outputs based on these examples and can then make predictions on new, unseen data. Examples of supervised learning tasks include classification, regression, and prediction problems.\n",
      "\n",
      "2. **Unsupervised Learning**: In unsupervised learning, the model is trained using unlabeled data, where only the input data is provided. The model learns patterns and structures within the data without any prior knowledge of the desired output. Examples of unsupervised learning tasks include clustering, dimensionality reduction, and anomaly detection.\n",
      "\n",
      "3. **Semisupervised Learning**: Semisupervised learning is a combination of supervised and unsupervised learning approaches. In this scenario, the model is trained using a small amount of labeled data and a large amount of unlabeled data. This approach leverages the strengths of both supervised and unsupervised learning by enabling the model to learn patterns in the data while still benefiting from the limited amount of available labeled data.\n",
      "\n",
      "4. **Reinforcement Learning**: Reinforcement learning involves training a model in an interactive environment where it learns to perform specific actions based on reward feedback. The model learns to make decisions that maximize the cumulative reward over time. Examples of reinforcement learning tasks include game playing, robot navigation, and chatbot conversations.\n",
      "\n",
      "In addition to these classifications, the author also mentions instance-based versus model-based learning as another way to categorize machine learning systems. Instance-based learning focuses on storing and retrieving specific examples during the learning process, while model-based learning relies on building a model that generalizes from the training data.\n",
      "\n",
      "References:\n",
      "\n",
      "- Géron, A. (2019). Hands-On Machine Learning with Scikit-Learn, Keras, and TensorFlow: Concepts, Tools, and Techniques to Build Intelligent Systems (2nd ed.). O'Reilly Media.\n"
     ]
    }
   ],
   "source": [
    "\n",
    "input_state = {\"question\": \"What is machine learning? its types\" }\n",
    "\n",
    "final_state = app.invoke(input_state)\n",
    "print(\"\\n📝 Final Answer:\\n\", final_state[\"generation\"])\n"
   ]
  },
  {
   "cell_type": "code",
   "execution_count": 58,
   "id": "947c50bf",
   "metadata": {},
   "outputs": [
    {
     "name": "stdout",
     "output_type": "stream",
     "text": [
      "🔍 Retrieving documents...\n",
      "📊 Grading documents...\n",
      "🧠 Generating answer...\n",
      "👁️ Checking for hallucinations...\n",
      "✅ Checking if answer meets question...\n",
      "\n",
      "📝 Final Answer:\n",
      " While both Random Forest and Ensemble models are related, they are not exactly the same thing. An Ensemble model is a general term that refers to any Machine Learning model that combines the predictions of multiple other models, with the goal of improving accuracy. On the other hand, a Random Forest is a specific type of Ensemble model that is built using an ensemble of Decision Trees, where each tree is trained on a different random subset of the training data. So, while a Random Forest is a type of Ensemble model, not all Ensemble models are Random Forests. (Chapter 7: Ensemble Learning and Random Forests)\n"
     ]
    }
   ],
   "source": [
    "\n",
    "input_state = {\"question\": \"how random forest and ensemble models are diffrents is both are same or not same one line answer\" }\n",
    "\n",
    "final_state = app.invoke(input_state)\n",
    "print(\"\\n📝 Final Answer:\\n\", final_state[\"generation\"])\n"
   ]
  },
  {
   "cell_type": "code",
   "execution_count": null,
   "id": "ccbf0ff5",
   "metadata": {},
   "outputs": [],
   "source": []
  }
 ],
 "metadata": {
  "kernelspec": {
   "display_name": "langchain_env",
   "language": "python",
   "name": "python3"
  },
  "language_info": {
   "codemirror_mode": {
    "name": "ipython",
    "version": 3
   },
   "file_extension": ".py",
   "mimetype": "text/x-python",
   "name": "python",
   "nbconvert_exporter": "python",
   "pygments_lexer": "ipython3",
   "version": "3.10.16"
  }
 },
 "nbformat": 4,
 "nbformat_minor": 5
}
