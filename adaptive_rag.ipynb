{
 "cells": [
  {
   "cell_type": "code",
   "execution_count": 81,
   "id": "fbf80a9c",
   "metadata": {},
   "outputs": [
    {
     "data": {
      "text/plain": [
       "True"
      ]
     },
     "execution_count": 81,
     "metadata": {},
     "output_type": "execute_result"
    }
   ],
   "source": [
    "from typing import TypedDict, List, Literal\n",
    "from langchain.prompts import PromptTemplate\n",
    "from langchain_community.vectorstores import Chroma\n",
    "from langchain_nvidia_ai_endpoints import NVIDIAEmbeddings, ChatNVIDIA\n",
    "from langchain.text_splitter import RecursiveCharacterTextSplitter\n",
    "from langchain_community.document_loaders import PyMuPDFLoader\n",
    "from langchain_core.output_parsers import StrOutputParser\n",
    "from langgraph.graph import StateGraph, END\n",
    "from tavily import TavilyClient\n",
    "from dotenv import load_dotenv\n",
    "import os\n",
    "load_dotenv()"
   ]
  },
  {
   "cell_type": "code",
   "execution_count": 82,
   "id": "b0ba5f5a",
   "metadata": {},
   "outputs": [],
   "source": [
    "os.environ[\"NVIDIA_API_KEY\"] = os.getenv(\"NVIDIA_API_KEY\")\n",
    "os.environ[\"TAVILY_API_KEY\"] = os.getenv(\"TAVILY_API_KEY\")"
   ]
  },
  {
   "cell_type": "code",
   "execution_count": 83,
   "id": "8d78d4fc",
   "metadata": {},
   "outputs": [
    {
     "name": "stderr",
     "output_type": "stream",
     "text": [
      "d:\\ana\\envs\\langchain_env\\lib\\site-packages\\langchain_nvidia_ai_endpoints\\_statics.py:810: UserWarning: Model mixtral_8x7b is deprecated. Using mistralai/mixtral-8x7b-instruct-v0.1 instead.\n",
      "  warnings.warn(\n"
     ]
    }
   ],
   "source": [
    "\n",
    "# Load and prepare documents\n",
    "loader = PyMuPDFLoader(\"D:\\\\Code\\\\GIt repo\\\\internship+gen ai\\\\quadrag\\\\Hands-on-ML-ml.pdf\")\n",
    "docs = loader.load()\n",
    "splitter = RecursiveCharacterTextSplitter(chunk_size=400, chunk_overlap=50)\n",
    "chunks = splitter.split_documents(docs)\n",
    "\n",
    "vectorstore = Chroma(\n",
    "    collection_name=\"hands-on-ml\",\n",
    "    embedding_function=NVIDIAEmbeddings(),\n",
    "    persist_directory=\"hands-on-ml1\"\n",
    ")\n",
    "retriever = vectorstore.as_retriever()\n",
    "\n",
    "# LLM\n",
    "llm = ChatNVIDIA(model=\"mixtral_8x7b\")\n",
    "\n",
    "# State definition\n",
    "class AgentState(TypedDict):\n",
    "    question: str\n",
    "    documents: List[str]\n",
    "    generation: str\n",
    "    should_rewrite: bool\n",
    "    is_hallucination: bool\n",
    "    answer_meets_question: bool\n",
    "    route: str\n"
   ]
  },
  {
   "cell_type": "code",
   "execution_count": 84,
   "id": "f8bb69c4",
   "metadata": {},
   "outputs": [],
   "source": [
    "\n",
    "prompt = PromptTemplate(\n",
    "    template=\"\"\"\n",
    "    You are Professional Book Reader and you are reading a book called \"Hands-on Machine Learning with Scikit-Learn, Keras, and TensorFlow\" by Aurélien Géron.\n",
    "    As a reader user I will ask you questions about the book and you will answer them based on the context of the book.\n",
    "    Here is the context of the book: {context}\n",
    "    \n",
    "    Also here is some advice for you:\n",
    "    1. Always answer the question based on the context of the book.\n",
    "    2. If the question is not related to the book, say \"I don't know\".\n",
    "    3. If the question is not clear, ask for clarification.\n",
    "    4. You are a professional book reader, so you should answer the question in a professional way also if user needs explanation then explain like a Great Professor of prestigious University explain with Real-world example(s).\n",
    "    5. If the question is about a specific chapter, mention the chapter number and title in your answer.\n",
    "    6. If need some Mathematical formula to answer the question then use LaTeX format to write the formula.\n",
    "    \n",
    "    Here is the question: {question}\n",
    "    Answer the question based on the context of the book.\n",
    "    \"\"\",\n",
    "    input_variables=[\"context\", \"question\"],\n",
    ")\n",
    "\n",
    "\n",
    "rewrite_prompt = PromptTemplate(\n",
    "    template=\"Rewrite this question to be more specific:\\n{question}\",\n",
    "    input_variables=[\"question\"]\n",
    ")\n",
    "\n",
    "hallucination_check_prompt = PromptTemplate(\n",
    "    template=\"\"\"\n",
    "Check if this answer is fully supported by the context.\n",
    "\n",
    "Context:\n",
    "{context}\n",
    "\n",
    "Answer:\n",
    "{generation}\n",
    "\n",
    "Reply with: \"No Hallucination\" or \"Hallucination Detected\"\n",
    "\"\"\", input_variables=[\"context\", \"generation\"]\n",
    ")\n"
   ]
  },
  {
   "cell_type": "code",
   "execution_count": 85,
   "id": "0222a622",
   "metadata": {},
   "outputs": [],
   "source": [
    "query_analysis_prompt = PromptTemplate(\n",
    "    template=\"\"\"Analyze the question and determine if it can be answered with the provided context.\n",
    "Context:{context}\n",
    "Question: {question}\"\"\",\n",
    "    input_variables=[\"context\", \"question\"]\n",
    ")\n",
    "\n",
    "# Define the query analysis chain\n",
    "query_analysis_chain = query_analysis_prompt | llm | StrOutputParser()\n",
    "\n",
    "def query_analysis(state: AgentState) -> AgentState:\n",
    "    print(\"🔍 Query Analysis...\")\n",
    "    context = \"\\n\\n\".join(doc.page_content for doc in docs[:5])  # Use first few docs for context\n",
    "    result = query_analysis_chain.invoke({\n",
    "        \"context\": context,\n",
    "        \"question\": state[\"question\"]\n",
    "    })\n",
    "    \n",
    "    # Route to index search if response indicates question can be answered from book\n",
    "    return {**state, \"route\": \"index\" if \"can be answered\" in result.lower() else \"web\"}"
   ]
  },
  {
   "cell_type": "code",
   "execution_count": null,
   "id": "5cf8a975",
   "metadata": {},
   "outputs": [],
   "source": []
  },
  {
   "cell_type": "code",
   "execution_count": 86,
   "id": "1e02ea0e",
   "metadata": {},
   "outputs": [],
   "source": [
    "\n",
    "# Chains\n",
    "qa_chain = prompt | llm | StrOutputParser()\n",
    "rewrite_chain = rewrite_prompt | llm | StrOutputParser()\n",
    "hallucination_chain = hallucination_check_prompt | llm | StrOutputParser()\n",
    "\n",
    "\n",
    "\n",
    "\n",
    "def retrieve_docs(state: AgentState) -> AgentState:\n",
    "    print(\"📚 Retrieving documents...\")\n",
    "    docs = retriever.invoke(state[\"question\"])\n",
    "    return {**state, \"documents\": docs}\n",
    "\n",
    "def grade_docs(state: AgentState) -> AgentState:\n",
    "    print(\"📝 Grading document relevance...\")\n",
    "    return {**state, \"should_rewrite\": not bool(state[\"documents\"])}\n",
    "\n",
    "def generate_answer(state: AgentState) -> AgentState:\n",
    "    print(\"🧠 Generating book-based answer...\")\n",
    "    context = \"\\n\\n\".join(doc.page_content for doc in state[\"documents\"])\n",
    "    generation = qa_chain.invoke({\"context\": context, \"question\": state[\"question\"]})\n",
    "    return {**state, \"generation\": generation}\n",
    "\n",
    "def check_hallucination(state: AgentState) -> AgentState:\n",
    "    print(\"🔍 Checking for hallucinations...\")\n",
    "    context = \"\\n\\n\".join(doc.page_content for doc in state[\"documents\"])\n",
    "    result = hallucination_chain.invoke({\"context\": context, \"generation\": state[\"generation\"]})\n",
    "    return {**state, \"is_hallucination\": \"Hallucination Detected\" in result}\n",
    "\n",
    "def check_answers_question(state: AgentState) -> AgentState:\n",
    "    print(\"✅ Checking if answer meets question...\")\n",
    "    valid = state[\"generation\"] and \"I don't know\" not in state[\"generation\"]\n",
    "    return {**state, \"answer_meets_question\": valid}\n",
    "\n",
    "def rewrite_question(state: AgentState) -> AgentState:\n",
    "    print(\"🔁 Rewriting question...\")\n",
    "    new_q = rewrite_chain.invoke({\"question\": state[\"question\"]})\n",
    "    return {**state, \"question\": new_q, \"should_rewrite\": False}\n",
    "\n",
    "\n",
    "\n",
    "# Conditions\n",
    "def route_condition(state: AgentState) -> Literal[\"index\", \"web\"]:\n",
    "    return state[\"route\"]\n",
    "\n",
    "def grade_condition(state: AgentState) -> Literal[\"yes\", \"no\"]:\n",
    "    return \"yes\" if not state[\"should_rewrite\"] else \"no\"\n",
    "\n",
    "def hallucination_condition(state: AgentState) -> Literal[\"yes\", \"no\"]:\n",
    "    return \"no\" if not state[\"is_hallucination\"] else \"yes\"\n",
    "\n",
    "def check_answer_condition(state: AgentState) -> Literal[\"yes\", \"no\"]:\n",
    "    return \"yes\" if state[\"answer_meets_question\"] else \"no\"\n"
   ]
  },
  {
   "cell_type": "code",
   "execution_count": 87,
   "id": "96dddff8",
   "metadata": {},
   "outputs": [],
   "source": [
    "def web_generate(state: AgentState) -> AgentState:\n",
    "    print(\"🌐 Generating web-based answer...\")\n",
    "    tavily_client = TavilyClient()  # API key will be taken from environment variable\n",
    "    try:\n",
    "        search_results = tavily_client.search(\n",
    "            query=state[\"question\"],\n",
    "            search_depth=\"basic\",\n",
    "            max_results=2\n",
    "        )\n",
    "        \n",
    "        if search_results and len(search_results.get('results', [])) > 0:\n",
    "            # Extract content from the first few results\n",
    "            content = []\n",
    "            for result in search_results['results'][:2]:\n",
    "                content.append(f\"- {result.get('title', '')}: {result.get('content', '')}\")\n",
    "            \n",
    "            answer = \"\\n\".join(content)\n",
    "        else:\n",
    "            answer = \"No relevant information found on the web.\"\n",
    "            \n",
    "    except Exception as e:\n",
    "        print(f\"Error during web search: {str(e)}\")\n",
    "        answer = \"Sorry, I encountered an error while searching the web.\"\n",
    "\n",
    "    return {**state, \"generation\": answer}"
   ]
  },
  {
   "cell_type": "code",
   "execution_count": 88,
   "id": "863a83b3",
   "metadata": {},
   "outputs": [],
   "source": [
    "\n",
    "# Graph setup\n",
    "workflow = StateGraph(AgentState)\n",
    "workflow.add_node(\"query_analysis\", query_analysis)\n",
    "workflow.add_node(\"retrieve\", retrieve_docs)\n",
    "workflow.add_node(\"grade\", grade_docs)\n",
    "workflow.add_node(\"generate\", generate_answer)\n",
    "workflow.add_node(\"hallucination\", check_hallucination)\n",
    "workflow.add_node(\"check_answer\", check_answers_question)\n",
    "workflow.add_node(\"rewrite\", rewrite_question)\n",
    "workflow.add_node(\"web_generate\", web_generate)\n",
    "\n",
    "# Routing\n",
    "workflow.set_entry_point(\"query_analysis\")\n",
    "workflow.add_conditional_edges(\"query_analysis\", route_condition, {\n",
    "    \"index\": \"web_generate\",\n",
    "    \"web\": \"retrieve\"\n",
    "})\n",
    "workflow.add_edge(\"web_generate\", END)\n",
    "workflow.add_edge(\"retrieve\", \"grade\")\n",
    "workflow.add_conditional_edges(\"grade\", grade_condition, {\"yes\": \"generate\", \"no\": \"rewrite\"})\n",
    "workflow.add_edge(\"rewrite\", \"retrieve\")\n",
    "workflow.add_edge(\"generate\", \"hallucination\")\n",
    "workflow.add_conditional_edges(\"hallucination\", hallucination_condition, {\"yes\": \"generate\", \"no\": \"check_answer\"})\n",
    "workflow.add_conditional_edges(\"check_answer\", check_answer_condition, {\"yes\": END, \"no\": \"rewrite\"})\n",
    "\n",
    "app = workflow.compile()\n"
   ]
  },
  {
   "cell_type": "code",
   "execution_count": 89,
   "id": "401abdee",
   "metadata": {},
   "outputs": [
    {
     "data": {
      "image/png": "[encoded data removed]",
      "text/plain": [
       "<IPython.core.display.Image object>"
      ]
     },
     "metadata": {},
     "output_type": "display_data"
    }
   ],
   "source": [
    "from IPython.display import Image, display\n",
    "display(Image(app.get_graph().draw_mermaid_png()))"
   ]
  },
  {
   "cell_type": "code",
   "execution_count": 90,
   "id": "6e52fc08",
   "metadata": {},
   "outputs": [
    {
     "name": "stdout",
     "output_type": "stream",
     "text": [
      "🔍 Query Analysis...\n",
      "📚 Retrieving documents...\n",
      "📝 Grading document relevance...\n",
      "🧠 Generating book-based answer...\n",
      "🔍 Checking for hallucinations...\n",
      "✅ Checking if answer meets question...\n",
      "\n",
      "final Answer:\n",
      " The book mentions that Keras is a high-level Deep Learning API that can be used with TensorFlow, but it can also be used with other deep learning libraries. Keras provides a simple interface for building and training deep learning models, while TensorFlow is a powerful library for numerical computations that can be used to implement and train these models.\n",
      "\n",
      "When used together, Keras serves as the high-level API for building and training models, while TensorFlow serves as the underlying engine for performing the computations. This combination is referred to as \"multibackend Keras\" in the book.\n",
      "\n",
      "Additionally, TensorFlow 2.0 has adopted Keras as its official high-level API. This means that when you use TensorFlow 2.0, you are effectively using a version of Keras that is integrated with TensorFlow. This version of Keras is referred to as \"tf.keras\" in the book.\n",
      "\n",
      "In summary, Keras is a high-level API for building and training deep learning models, while TensorFlow is a library for performing numerical computations. When used together, Keras provides a simple interface for building and training models, while TensorFlow performs the underlying computations. TensorFlow 2.0 has also adopted Keras as its official high-level API, which is referred to as \"tf.keras\".\n"
     ]
    }
   ],
   "source": [
    "\n",
    "input_state2 = {\"question\": \"what is the difference between keras and tensorflow?\"}\n",
    "result2 = app.invoke(input_state2)\n",
    "print(\"\\nfinal Answer:\\n\", result2[\"generation\"])"
   ]
  },
  {
   "cell_type": "code",
   "execution_count": 91,
   "id": "bf401c93",
   "metadata": {},
   "outputs": [
    {
     "name": "stdout",
     "output_type": "stream",
     "text": [
      "🔍 Query Analysis...\n",
      "📚 Retrieving documents...\n",
      "📝 Grading document relevance...\n",
      "🧠 Generating book-based answer...\n",
      "🔍 Checking for hallucinations...\n",
      "✅ Checking if answer meets question...\n",
      "\n",
      "final Answer:\n",
      " The learning rate in deep learning is a hyperparameter that determines how much the weights in a model are adjusted with respect to the loss gradient during training. It controls the size of the steps that the model takes while traversing the loss landscape to find the optimal weights. A properly tuned learning rate can significantly impact the training time and the final performance of the model. If the learning rate is too small, the model may require many iterations to converge to the optimal solution, resulting in slow training (as shown in Figure 4-4 in the book). On the other hand, if the learning rate is too large, the model might overshoot the optimal solution, possibly causing the training to diverge (Figure 4-5). The book mentions power scheduling and exponential scheduling as techniques to adjust the learning rate during training. These techniques help in finding a good balance between convergence speed and precision.\n",
      "\n",
      "In LaTeX format, the power scheduling and exponential scheduling can be represented as:\n",
      "\n",
      "Power scheduling:\n",
      "\\begin{equation}\n",
      "\\eta(t) = \\eta_0 \\cdot t^{-s}\n",
      "\\end{equation}\n",
      "\n",
      "Exponential scheduling:\n",
      "\\begin{equation}\n",
      "\\eta(t) = \\eta_0 \\cdot 0.1^{t/s}\n",
      "\\end{equation}\n",
      "\n",
      "Here, $\\eta(t)$ is the learning rate at time step $t$, $\\eta_0$ is the initial learning rate, $s$ is a hyperparameter to control the decay rate, and the time step $t$ is usually the iteration number.\n"
     ]
    }
   ],
   "source": [
    "\n",
    "input_state2 = {\"question\": \"wwhat is learning rate in deep learning?\"}\n",
    "result2 = app.invoke(input_state2)\n",
    "print(\"\\nfinal Answer:\\n\", result2[\"generation\"])"
   ]
  },
  {
   "cell_type": "code",
   "execution_count": 92,
   "id": "97c38f2e",
   "metadata": {},
   "outputs": [
    {
     "name": "stdout",
     "output_type": "stream",
     "text": [
      "🔍 Query Analysis...\n",
      "📚 Retrieving documents...\n",
      "📝 Grading document relevance...\n",
      "🧠 Generating book-based answer...\n",
      "🔍 Checking for hallucinations...\n",
      "✅ Checking if answer meets question...\n",
      "\n",
      "final Answer:\n",
      " Linear regression is a statistical model that is used to examine the relationship between two continuous variables. In the context of the book, Chapter 4, it is defined as a model that makes a prediction by computing a weighted sum of the input features, plus a constant called the bias term (also referred to as the intercept term). Mathematically, it is represented as the equation:\n",
      "\n",
      "`y' = θ0 + θ1*x1 + θ2*x2 + ... + θn*xn`\n",
      "\n",
      "where `y'` is the predicted value, `x1, x2, ..., xn` are the input features, and `θ0, θ1, ..., θn` are the model's parameters.\n",
      "\n",
      "In simpler terms, it is a method of fitting a straight line or a plane to a set of data points, with the goal of making the distances between the observed data points and the fitted line as small as possible.\n",
      "\n",
      "For example, in the real-world, it could be used to model the relationship between a student's study hours and their final exam score. By fitting a linear regression model to the data, one can determine the slope, or coefficient, that represents the change in the exam score for each additional hour of study. The y-intercept, or bias term, would represent the score a student would be expected to achieve if they didn't study at all.\n"
     ]
    }
   ],
   "source": [
    "\n",
    "input_state2 = {\"question\": \"wwhat is linear regression?\"}\n",
    "result2 = app.invoke(input_state2)\n",
    "print(\"\\nfinal Answer:\\n\", result2[\"generation\"])"
   ]
  },
  {
   "cell_type": "code",
   "execution_count": null,
   "id": "5cb88547",
   "metadata": {},
   "outputs": [],
   "source": []
  }
 ],
 "metadata": {
  "kernelspec": {
   "display_name": "langchain_env",
   "language": "python",
   "name": "python3"
  },
  "language_info": {
   "codemirror_mode": {
    "name": "ipython",
    "version": 3
   },
   "file_extension": ".py",
   "mimetype": "text/x-python",
   "name": "python",
   "nbconvert_exporter": "python",
   "pygments_lexer": "ipython3",
   "version": "3.10.16"
  }
 },
 "nbformat": 4,
 "nbformat_minor": 5
}
