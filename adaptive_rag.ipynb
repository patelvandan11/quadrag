{
 "cells": [
  {
   "cell_type": "code",
   "execution_count": 11,
   "id": "fbf80a9c",
   "metadata": {},
   "outputs": [
    {
     "data": {
      "text/plain": [
       "True"
      ]
     },
     "execution_count": 11,
     "metadata": {},
     "output_type": "execute_result"
    }
   ],
   "source": [
    "from typing import TypedDict, List, Literal\n",
    "from langchain.prompts import PromptTemplate\n",
    "from langchain_community.vectorstores import Chroma\n",
    "from langchain_nvidia_ai_endpoints import NVIDIAEmbeddings, ChatNVIDIA\n",
    "from langchain.text_splitter import RecursiveCharacterTextSplitter\n",
    "from langchain_community.document_loaders import PyMuPDFLoader\n",
    "from langchain_core.output_parsers import StrOutputParser\n",
    "from langgraph.graph import StateGraph, END\n",
    "from tavily import TavilyClient\n",
    "from dotenv import load_dotenv\n",
    "import os\n",
    "load_dotenv()"
   ]
  },
  {
   "cell_type": "code",
   "execution_count": 12,
   "id": "b0ba5f5a",
   "metadata": {},
   "outputs": [],
   "source": [
    "os.environ[\"NVIDIA_API_KEY\"] = os.getenv(\"NVIDIA_API_KEY\")\n",
    "os.environ[\"TAVILY_API_KEY\"] = os.getenv(\"TAVILY_API_KEY\")"
   ]
  },
  {
   "cell_type": "code",
   "execution_count": 13,
   "id": "8d78d4fc",
   "metadata": {},
   "outputs": [
    {
     "name": "stderr",
     "output_type": "stream",
     "text": [
      "d:\\ana\\envs\\langchain_env\\lib\\site-packages\\langchain_nvidia_ai_endpoints\\_statics.py:810: UserWarning: Model mixtral_8x7b is deprecated. Using mistralai/mixtral-8x7b-instruct-v0.1 instead.\n",
      "  warnings.warn(\n"
     ]
    }
   ],
   "source": [
    "\n",
    "# Load and prepare documents\n",
    "loader = PyMuPDFLoader(\"D:\\\\Code\\\\GIt repo\\\\internship+gen ai\\\\quadrag\\\\Hands-on-ML-ml.pdf\")\n",
    "docs = loader.load()\n",
    "splitter = RecursiveCharacterTextSplitter(chunk_size=400, chunk_overlap=50)\n",
    "chunks = splitter.split_documents(docs)\n",
    "\n",
    "vectorstore = Chroma(\n",
    "    collection_name=\"hands-on-ml\",\n",
    "    embedding_function=NVIDIAEmbeddings(),\n",
    "    persist_directory=\"hands-on-ml1\"\n",
    ")\n",
    "retriever = vectorstore.as_retriever()\n",
    "\n",
    "# LLM\n",
    "llm = ChatNVIDIA(model=\"mixtral_8x7b\")\n",
    "\n",
    "# State definition\n",
    "class AgentState(TypedDict):\n",
    "    question: str\n",
    "    documents: List[str]\n",
    "    generation: str\n",
    "    should_rewrite: bool\n",
    "    is_hallucination: bool\n",
    "    answer_meets_question: bool\n",
    "    route: str\n"
   ]
  },
  {
   "cell_type": "code",
   "execution_count": 14,
   "id": "f8bb69c4",
   "metadata": {},
   "outputs": [],
   "source": [
    "\n",
    "prompt = PromptTemplate(\n",
    "    template=\"\"\"\n",
    "    You are Professional Book Reader and you are reading a book called \"Hands-on Machine Learning with Scikit-Learn, Keras, and TensorFlow\" by Aurélien Géron.\n",
    "    As a reader user I will ask you questions about the book and you will answer them based on the context of the book.\n",
    "    Here is the context of the book: {context}\n",
    "    \n",
    "    Also here is some advice for you:\n",
    "    1. Always answer the question based on the context of the book.\n",
    "    2. If the question is not related to the book, say \"I don't know\".\n",
    "    3. If the question is not clear, ask for clarification.\n",
    "    4. You are a professional book reader, so you should answer the question in a professional way also if user needs explanation then explain like a Great Professor of prestigious University explain with Real-world example(s).\n",
    "    5. If the question is about a specific chapter, mention the chapter number and title in your answer.\n",
    "    6. If need some Mathematical formula to answer the question then use LaTeX format to write the formula.\n",
    "    \n",
    "    Here is the question: {question}\n",
    "    Answer the question based on the context of the book.\n",
    "    \"\"\",\n",
    "    input_variables=[\"context\", \"question\"],\n",
    ")\n",
    "\n",
    "\n",
    "rewrite_prompt = PromptTemplate(\n",
    "    template=\"Rewrite this question to be more specific:\\n{question}\",\n",
    "    input_variables=[\"question\"]\n",
    ")\n",
    "\n",
    "hallucination_check_prompt = PromptTemplate(\n",
    "    template=\"\"\"\n",
    "Check if this answer is fully supported by the context.\n",
    "\n",
    "Context:\n",
    "{context}\n",
    "\n",
    "Answer:\n",
    "{generation}\n",
    "\n",
    "Reply with: \"No Hallucination\" or \"Hallucination Detected\"\n",
    "\"\"\", input_variables=[\"context\", \"generation\"]\n",
    ")\n"
   ]
  },
  {
   "cell_type": "code",
   "execution_count": 33,
   "id": "0222a622",
   "metadata": {},
   "outputs": [],
   "source": [
    "query_analysis_prompt = PromptTemplate(\n",
    "    template=\"\"\"Analyze the question and determine if it can be answered with the provided context.\n",
    "Context:{context}\n",
    "Question: {question}\"\"\",\n",
    "    input_variables=[\"context\", \"question\"]\n",
    ")\n",
    "\n",
    "# Define the query analysis chain\n",
    "query_analysis_chain = query_analysis_prompt | llm | StrOutputParser()\n",
    "\n",
    "def query_analysis(state: AgentState) -> AgentState:\n",
    "    print(\"🔍 Query Analysis...\")\n",
    "    context = \"\\n\\n\".join(doc.page_content for doc in docs[:5])  # Use first few docs for context\n",
    "    result = query_analysis_chain.invoke({\n",
    "        \"context\": context,\n",
    "        \"question\": state[\"question\"]\n",
    "    })\n",
    "    \n",
    "    # Route to index search if response indicates question can be answered from book\n",
    "    return {**state, \"route\": \"index\" if \"can be answered\" in result.lower() else \"web\"}"
   ]
  },
  {
   "cell_type": "code",
   "execution_count": null,
   "id": "5cf8a975",
   "metadata": {},
   "outputs": [],
   "source": []
  },
  {
   "cell_type": "code",
   "execution_count": 34,
   "id": "1e02ea0e",
   "metadata": {},
   "outputs": [],
   "source": [
    "\n",
    "# Chains\n",
    "qa_chain = prompt | llm | StrOutputParser()\n",
    "rewrite_chain = rewrite_prompt | llm | StrOutputParser()\n",
    "hallucination_chain = hallucination_check_prompt | llm | StrOutputParser()\n",
    "\n",
    "\n",
    "\n",
    "\n",
    "def retrieve_docs(state: AgentState) -> AgentState:\n",
    "    print(\"📚 Retrieving documents...\")\n",
    "    docs = retriever.invoke(state[\"question\"])\n",
    "    return {**state, \"documents\": docs}\n",
    "\n",
    "def grade_docs(state: AgentState) -> AgentState:\n",
    "    print(\"📝 Grading document relevance...\")\n",
    "    return {**state, \"should_rewrite\": not bool(state[\"documents\"])}\n",
    "\n",
    "def generate_answer(state: AgentState) -> AgentState:\n",
    "    print(\"🧠 Generating book-based answer...\")\n",
    "    context = \"\\n\\n\".join(doc.page_content for doc in state[\"documents\"])\n",
    "    generation = qa_chain.invoke({\"context\": context, \"question\": state[\"question\"]})\n",
    "    return {**state, \"generation\": generation}\n",
    "\n",
    "def check_hallucination(state: AgentState) -> AgentState:\n",
    "    print(\"🔍 Checking for hallucinations...\")\n",
    "    context = \"\\n\\n\".join(doc.page_content for doc in state[\"documents\"])\n",
    "    result = hallucination_chain.invoke({\"context\": context, \"generation\": state[\"generation\"]})\n",
    "    return {**state, \"is_hallucination\": \"Hallucination Detected\" in result}\n",
    "\n",
    "def check_answers_question(state: AgentState) -> AgentState:\n",
    "    print(\"✅ Checking if answer meets question...\")\n",
    "    valid = state[\"generation\"] and \"I don't know\" not in state[\"generation\"]\n",
    "    return {**state, \"answer_meets_question\": valid}\n",
    "\n",
    "def rewrite_question(state: AgentState) -> AgentState:\n",
    "    print(\"🔁 Rewriting question...\")\n",
    "    new_q = rewrite_chain.invoke({\"question\": state[\"question\"]})\n",
    "    return {**state, \"question\": new_q, \"should_rewrite\": False}\n",
    "\n",
    "\n",
    "\n",
    "# Conditions\n",
    "def route_condition(state: AgentState) -> Literal[\"index\", \"web\"]:\n",
    "    return state[\"route\"]\n",
    "\n",
    "def grade_condition(state: AgentState) -> Literal[\"yes\", \"no\"]:\n",
    "    return \"yes\" if not state[\"should_rewrite\"] else \"no\"\n",
    "\n",
    "def hallucination_condition(state: AgentState) -> Literal[\"yes\", \"no\"]:\n",
    "    return \"no\" if not state[\"is_hallucination\"] else \"yes\"\n",
    "\n",
    "def check_answer_condition(state: AgentState) -> Literal[\"yes\", \"no\"]:\n",
    "    return \"yes\" if state[\"answer_meets_question\"] else \"no\"\n"
   ]
  },
  {
   "cell_type": "code",
   "execution_count": 35,
   "id": "96dddff8",
   "metadata": {},
   "outputs": [],
   "source": [
    "def web_generate(state: AgentState) -> AgentState:\n",
    "    print(\"🌐 Generating web-based answer...\")\n",
    "    tavily_client = TavilyClient()  # API key will be taken from environment variable\n",
    "    try:\n",
    "        search_results = tavily_client.search(\n",
    "            query=state[\"question\"],\n",
    "            search_depth=\"basic\",\n",
    "            max_results=2\n",
    "        )\n",
    "        \n",
    "        if search_results and len(search_results.get('results', [])) > 0:\n",
    "            # Extract content from the first few results\n",
    "            content = []\n",
    "            for result in search_results['results'][:2]:\n",
    "                content.append(f\"- {result.get('title', '')}: {result.get('content', '')}\")\n",
    "            \n",
    "            answer = \"\\n\".join(content)\n",
    "        else:\n",
    "            answer = \"No relevant information found on the web.\"\n",
    "            \n",
    "    except Exception as e:\n",
    "        print(f\"Error during web search: {str(e)}\")\n",
    "        answer = \"Sorry, I encountered an error while searching the web.\"\n",
    "\n",
    "    return {**state, \"generation\": answer}"
   ]
  },
  {
   "cell_type": "code",
   "execution_count": 36,
   "id": "863a83b3",
   "metadata": {},
   "outputs": [],
   "source": [
    "\n",
    "# Graph setup\n",
    "workflow = StateGraph(AgentState)\n",
    "workflow.add_node(\"query_analysis\", query_analysis)\n",
    "workflow.add_node(\"retrieve\", retrieve_docs)\n",
    "workflow.add_node(\"grade\", grade_docs)\n",
    "workflow.add_node(\"generate\", generate_answer)\n",
    "workflow.add_node(\"hallucination\", check_hallucination)\n",
    "workflow.add_node(\"check_answer\", check_answers_question)\n",
    "workflow.add_node(\"rewrite\", rewrite_question)\n",
    "workflow.add_node(\"web_generate\", web_generate)\n",
    "\n",
    "# Routing\n",
    "workflow.set_entry_point(\"query_analysis\")\n",
    "workflow.add_conditional_edges(\"query_analysis\", route_condition, {\n",
    "    \"index\": \"retrieve\",\n",
    "    \"web\": \"web_generate\"\n",
    "})\n",
    "workflow.add_edge(\"web_generate\", END)\n",
    "workflow.add_edge(\"retrieve\", \"grade\")\n",
    "workflow.add_conditional_edges(\"grade\", grade_condition, {\"yes\": \"generate\", \"no\": \"rewrite\"})\n",
    "workflow.add_edge(\"rewrite\", \"retrieve\")\n",
    "workflow.add_edge(\"generate\", \"hallucination\")\n",
    "workflow.add_conditional_edges(\"hallucination\", hallucination_condition, {\"yes\": \"generate\", \"no\": \"check_answer\"})\n",
    "workflow.add_conditional_edges(\"check_answer\", check_answer_condition, {\"yes\": END, \"no\": \"rewrite\"})\n",
    "\n",
    "app = workflow.compile()\n"
   ]
  },
  {
   "cell_type": "code",
   "execution_count": 37,
   "id": "401abdee",
   "metadata": {},
   "outputs": [
    {
     "data": {
      "image/png": "[encoded data removed]",
      "text/plain": [
       "<IPython.core.display.Image object>"
      ]
     },
     "metadata": {},
     "output_type": "display_data"
    }
   ],
   "source": [
    "from IPython.display import Image, display\n",
    "display(Image(app.get_graph().draw_mermaid_png()))"
   ]
  },
  {
   "cell_type": "code",
   "execution_count": 38,
   "id": "b32a8921",
   "metadata": {},
   "outputs": [
    {
     "name": "stdout",
     "output_type": "stream",
     "text": [
      "🔍 Query Analysis...\n",
      "🌐 Generating web-based answer...\n",
      "\n",
      "📝 Final Answer:\n",
      " - Is Elon Musk a US Citizen? Here's What Country the ... - Newsweek: # Is Elon Musk a US Citizen? Billionaire entrepreneur Elon Musk, the CEO of Tesla and SpaceX, has faced renewed scrutiny regarding his citizenship status despite being a U.S. citizen for over two decades. ## Is Elon Musk a Natural-Born U.S. Citizen? No, Elon Musk is not a natural-born American citizen. ## When Did Elon Musk Move to the U.S.? ## When Did Elon Musk Become a U.S. Citizen? ## Why Did Elon Musk Move to the U.S.? ## Are Elon Musk's Children U.S. Citizens? Yes, many of Musk's children are U.S. citizens by birth, as they were born in the United States. While Musk's naturalization as a U.S. citizen is settled, his engagement in federal government affairs raises questions about the role of naturalized citizens in high-level advisory positions.\n",
      "- Elon Musk - Wikipedia: Bush (2004) * The Good Samaritans: Bono / Bill Gates / Melinda Gates (2005) * You \"You (Time Person of the Year)\") (2006) * Vladimir Putin (2007) * Barack Obama (2008) * Ben Bernanke (2009) * Mark Zuckerberg (2010) * The Protester (2011) * Barack Obama (2012) * Pope Francis (2013) * Ebola Fighters: Dr. Jerry Brown / Dr. Kent Brantly / Ella Watson-Stryker / Foday Gollah / Salome Karwah (2014) * Angela Merkel (2015) * Donald Trump (2016) * The Silence Breakers (2017) * The Guardians: Jamal Khashoggi / Maria Ressa / Wa Lone / Kyaw Soe Oo / Staff of _The Capital_ (2018) * Greta Thunberg (2019) * Joe Biden / Kamala Harris (2020) * Elon Musk (2021) * Volodymyr Zelenskyy / Spirit of Ukraine (2022) * Taylor Swift (2023) * Donald Trump (2024) | | * v * t * e John Fritz Medal | | --- | | 1902–1924 | * 1902: John Fritz * 1903: _No award_ * 1904: _No award_ * 1905: Lord Kelvin * 1906: George Westinghouse * 1907: Alexander Graham Bell * 1908: Thomas Alva Edison * 1909: Charles Talbot Porter * 1910: Alfred Noble \"Alfred Noble (engineer)\") * 1911: Sir William Henry White * 1912: Robert Woolston Hunt * 1913: _No award_ * 1914: John Edson Sweet * 1915: James Douglas \"James Douglas (businessman)\") * 1916: Elihu Thomson * 1917: Henry Marion Howe * 1918: J.\n"
     ]
    }
   ],
   "source": [
    "\n",
    "# Example usage\n",
    "input_state = {\"question\": \"What is elone muskj?\"}\n",
    "result = app.invoke(input_state)\n",
    "print(\"\\n📝 Final Answer:\\n\", result[\"generation\"])\n",
    "\n"
   ]
  },
  {
   "cell_type": "code",
   "execution_count": 39,
   "id": "6e52fc08",
   "metadata": {},
   "outputs": [
    {
     "name": "stdout",
     "output_type": "stream",
     "text": [
      "🔍 Query Analysis...\n",
      "🌐 Generating web-based answer...\n",
      "\n",
      "final Web-Based Answer:\n",
      " - Difference between TensorFlow and Keras - GeeksforGeeks: Both Tensorflow and Keras are famous machine learning modules used in the field of data science. In this article, we will look at the advantages, disadvantages and the difference between these libraries. TensorFlow . TensorFlow is an open-source platform for machine learning and a symbolic math library that is used for machine learning\n",
      "- TensorFlow vs Keras: Key Difference Between Them - Guru99: Keras is a Python-based framework that makes it easy to debug and explore. Highly modular neural networks library written in Python; Developed with a focus on allows on fast experimentation; TensorFlow Vs Keras: Difference Between Keras and Tensorflow. Here, are important differences between Keras and Tensorflow\n"
     ]
    }
   ],
   "source": [
    "\n",
    "input_state2 = {\"question\": \"what is the difference between keras and tensorflow?\"}\n",
    "result2 = app.invoke(input_state2)\n",
    "print(\"\\nfinal Web-Based Answer:\\n\", result2[\"generation\"])"
   ]
  },
  {
   "cell_type": "code",
   "execution_count": 40,
   "id": "bf401c93",
   "metadata": {},
   "outputs": [
    {
     "name": "stdout",
     "output_type": "stream",
     "text": [
      "🔍 Query Analysis...\n",
      "🌐 Generating web-based answer...\n",
      "\n",
      "final Web-Based Answer:\n",
      " - Learning Rate and Its Strategies in Neural Network Training: Learning Rate and Its Strategies in Neural Network Training | by Vrunda Bhattbhatt | The Deep Hub | Medium Learning Rate and Its Strategies in Neural Network Training Learning rate is a critical hyperparameter in the realm of neural network training, playing a central role in the optimization process. However, there is no one-size-fits-all learning rate; it often requires fine-tuning and experimentation, contingent on the specific needs of the training scenario and model architecture. lr_schedule = tf.keras.optimizers.schedules.ExponentialDecay(initial_learning_rate=0.01, decay_steps=10000, decay_rate=0.5, staircase=True) optimizer = tf.keras.optimizers.SGD(learning_rate=lr_schedule) lr_schedule = tf.keras.optimizers.schedules.ExponentialDecay(initial_learning_rate=0.01, decay_steps=10000, decay_rate=0.9, staircase=False) optimizer = tf.keras.optimizers.SGD(learning_rate=lr_schedule) Ultimately, the adept use of learning rate strategies can lead to more efficient training, reduced risk of overfitting, and enhanced overall model performance, underscoring their significance in the field of machine learning.\n",
      "- Understand the Impact of Learning Rate on Neural Network Performance: The learning rate is a hyperparameter that controls how much to change the model in response to the estimated error each time the model weights are updated. Choosing the learning rate is challenging as a value too small may result in a long training process that could get stuck, whereas a value too large may result in learning a sub-optimal set of weights too fast or an unstable training process. The learning rate may be the most important hyperparameter when configuring your neural network. In this tutorial, you will discover the effects of the learning rate, learning rate schedules, and adaptive learning rates on model performance.\n"
     ]
    }
   ],
   "source": [
    "\n",
    "input_state2 = {\"question\": \"wwhat is learning rate in deep learning?\"}\n",
    "result2 = app.invoke(input_state2)\n",
    "print(\"\\nfinal Web-Based Answer:\\n\", result2[\"generation\"])"
   ]
  },
  {
   "cell_type": "code",
   "execution_count": 41,
   "id": "97c38f2e",
   "metadata": {},
   "outputs": [
    {
     "name": "stdout",
     "output_type": "stream",
     "text": [
      "🔍 Query Analysis...\n",
      "🌐 Generating web-based answer...\n",
      "\n",
      "final Web-Based Answer:\n",
      " - Linear regression - Wikipedia: Contents Linear regression Part of a series on Regression analysis Models Linear regressionSimple regressionPolynomial regressionGeneral linear model Generalized linear modelVector generalized linear modelDiscrete choiceBinomial regressionBinary regressionLogistic regressionMultinomial logistic regressionMixed logitProbitMultinomial probitOrdered logitOrdered probitPoisson Multilevel modelFixed effectsRandom effectsLinear mixed-effects modelNonlinear mixed-effects model Nonlinear regressionNonparametricSemiparametricRobustQuantileIsotonicPrincipal componentsLeast angleLocalSegmented Errors-in-variables Estimation Least squaresLinearNon-linear OrdinaryWeightedGeneralizedGeneralized estimating equation PartialTotalNon-negativeRidge regressionRegularized Least absolute deviationsIteratively reweightedBayesianBayesian multivariateLeast-squares spectral analysis Background Regression validationMean and predicted responseErrors and residualsGoodness of fitStudentized residualGauss–Markov theorem Mathematics portal vte In statistics, linear regression is a model that estimates the relationship between a scalar response (dependent variable) and one or more explanatory variables (regressor or independent variable). A model with exactly one explanatory variable is a simple linear regression; a model with two or more explanatory variables is a multiple linear regression. [2] In linear regression, the relationships are modeled using linear predictor functions whose unknown model parameters are estimated from the data. [3] Linear regression was the first type of regression analysis to be studied rigorously, and to be used extensively in practical applications.\n",
      "- Linear regression | Definition, Formula, & Facts | Britannica: linear regression, in statistics, a process for determining a line that best represents the general trend of a data set.. The simplest form of linear regression involves two variables: y being the dependent variable and x being the independent variable. The equation developed is of the form y = mx + b, where m is the slope of the regression line (or the regression coefficient), and b is where\n"
     ]
    }
   ],
   "source": [
    "\n",
    "input_state2 = {\"question\": \"wwhat is linear regression?\"}\n",
    "result2 = app.invoke(input_state2)\n",
    "print(\"\\nfinal Web-Based Answer:\\n\", result2[\"generation\"])"
   ]
  },
  {
   "cell_type": "code",
   "execution_count": null,
   "id": "4eb622da",
   "metadata": {},
   "outputs": [],
   "source": []
  }
 ],
 "metadata": {
  "kernelspec": {
   "display_name": "langchain_env",
   "language": "python",
   "name": "python3"
  },
  "language_info": {
   "codemirror_mode": {
    "name": "ipython",
    "version": 3
   },
   "file_extension": ".py",
   "mimetype": "text/x-python",
   "name": "python",
   "nbconvert_exporter": "python",
   "pygments_lexer": "ipython3",
   "version": "3.10.16"
  }
 },
 "nbformat": 4,
 "nbformat_minor": 5
}
